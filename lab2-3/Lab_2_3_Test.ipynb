{
  "nbformat": 4,
  "nbformat_minor": 0,
  "metadata": {
    "colab": {
      "provenance": []
    },
    "kernelspec": {
      "name": "python3",
      "display_name": "Python 3"
    },
    "language_info": {
      "name": "python"
    }
  },
  "cells": [
    {
      "cell_type": "code",
      "execution_count": 1,
      "metadata": {
        "colab": {
          "base_uri": "https://localhost:8080/"
        },
        "id": "5bsESLOfZVfX",
        "outputId": "34e22304-f1b4-47c0-ccfd-c56fd4156e57"
      },
      "outputs": [
        {
          "output_type": "stream",
          "name": "stdout",
          "text": [
            "Reading package lists... Done\n",
            "Building dependency tree       \n",
            "Reading state information... Done\n",
            "The following additional packages will be installed:\n",
            "  default-jdk-headless default-jre default-jre-headless fonts-dejavu-core\n",
            "  fonts-dejavu-extra libatk-wrapper-java libatk-wrapper-java-jni libfontenc1\n",
            "  libxkbfile1 libxtst6 libxxf86dga1 openjdk-11-jdk openjdk-11-jre x11-utils\n",
            "Suggested packages:\n",
            "  openjdk-11-demo openjdk-11-source visualvm mesa-utils\n",
            "The following NEW packages will be installed:\n",
            "  default-jdk default-jdk-headless default-jre default-jre-headless\n",
            "  fonts-dejavu-core fonts-dejavu-extra libatk-wrapper-java\n",
            "  libatk-wrapper-java-jni libfontenc1 libxkbfile1 libxtst6 libxxf86dga1\n",
            "  openjdk-11-jdk openjdk-11-jre x11-utils\n",
            "0 upgraded, 15 newly installed, 0 to remove and 16 not upgraded.\n",
            "Need to get 4,912 kB of archives.\n",
            "After this operation, 13.8 MB of additional disk space will be used.\n",
            "Get:1 http://archive.ubuntu.com/ubuntu focal/main amd64 default-jre-headless amd64 2:1.11-72 [3,192 B]\n",
            "Get:2 http://archive.ubuntu.com/ubuntu focal/main amd64 libxtst6 amd64 2:1.2.3-1 [12.8 kB]\n",
            "Get:3 http://archive.ubuntu.com/ubuntu focal-updates/main amd64 openjdk-11-jre amd64 11.0.19+7~us1-0ubuntu1~20.04.1 [192 kB]\n",
            "Get:4 http://archive.ubuntu.com/ubuntu focal/main amd64 default-jre amd64 2:1.11-72 [1,084 B]\n",
            "Get:5 http://archive.ubuntu.com/ubuntu focal/main amd64 default-jdk-headless amd64 2:1.11-72 [1,140 B]\n",
            "Get:6 http://archive.ubuntu.com/ubuntu focal-updates/main amd64 openjdk-11-jdk amd64 11.0.19+7~us1-0ubuntu1~20.04.1 [1,320 kB]\n",
            "Get:7 http://archive.ubuntu.com/ubuntu focal/main amd64 default-jdk amd64 2:1.11-72 [1,096 B]\n",
            "Get:8 http://archive.ubuntu.com/ubuntu focal/main amd64 fonts-dejavu-core all 2.37-1 [1,041 kB]\n",
            "Get:9 http://archive.ubuntu.com/ubuntu focal/main amd64 fonts-dejavu-extra all 2.37-1 [1,953 kB]\n",
            "Get:10 http://archive.ubuntu.com/ubuntu focal/main amd64 libfontenc1 amd64 1:1.1.4-0ubuntu1 [14.0 kB]\n",
            "Get:11 http://archive.ubuntu.com/ubuntu focal/main amd64 libxkbfile1 amd64 1:1.1.0-1 [65.3 kB]\n",
            "Get:12 http://archive.ubuntu.com/ubuntu focal/main amd64 libxxf86dga1 amd64 2:1.1.5-0ubuntu1 [12.0 kB]\n",
            "Get:13 http://archive.ubuntu.com/ubuntu focal/main amd64 x11-utils amd64 7.7+5 [199 kB]\n",
            "Get:14 http://archive.ubuntu.com/ubuntu focal/main amd64 libatk-wrapper-java all 0.37.1-1 [53.0 kB]\n",
            "Get:15 http://archive.ubuntu.com/ubuntu focal/main amd64 libatk-wrapper-java-jni amd64 0.37.1-1 [45.1 kB]\n",
            "Fetched 4,912 kB in 1s (3,303 kB/s)\n",
            "debconf: unable to initialize frontend: Dialog\n",
            "debconf: (No usable dialog-like program is installed, so the dialog based frontend cannot be used. at /usr/share/perl5/Debconf/FrontEnd/Dialog.pm line 76, <> line 15.)\n",
            "debconf: falling back to frontend: Readline\n",
            "debconf: unable to initialize frontend: Readline\n",
            "debconf: (This frontend requires a controlling tty.)\n",
            "debconf: falling back to frontend: Teletype\n",
            "dpkg-preconfigure: unable to re-open stdin: \n",
            "Selecting previously unselected package default-jre-headless.\n",
            "(Reading database ... 123069 files and directories currently installed.)\n",
            "Preparing to unpack .../00-default-jre-headless_2%3a1.11-72_amd64.deb ...\n",
            "Unpacking default-jre-headless (2:1.11-72) ...\n",
            "Selecting previously unselected package libxtst6:amd64.\n",
            "Preparing to unpack .../01-libxtst6_2%3a1.2.3-1_amd64.deb ...\n",
            "Unpacking libxtst6:amd64 (2:1.2.3-1) ...\n",
            "Selecting previously unselected package openjdk-11-jre:amd64.\n",
            "Preparing to unpack .../02-openjdk-11-jre_11.0.19+7~us1-0ubuntu1~20.04.1_amd64.deb ...\n",
            "Unpacking openjdk-11-jre:amd64 (11.0.19+7~us1-0ubuntu1~20.04.1) ...\n",
            "Selecting previously unselected package default-jre.\n",
            "Preparing to unpack .../03-default-jre_2%3a1.11-72_amd64.deb ...\n",
            "Unpacking default-jre (2:1.11-72) ...\n",
            "Selecting previously unselected package default-jdk-headless.\n",
            "Preparing to unpack .../04-default-jdk-headless_2%3a1.11-72_amd64.deb ...\n",
            "Unpacking default-jdk-headless (2:1.11-72) ...\n",
            "Selecting previously unselected package openjdk-11-jdk:amd64.\n",
            "Preparing to unpack .../05-openjdk-11-jdk_11.0.19+7~us1-0ubuntu1~20.04.1_amd64.deb ...\n",
            "Unpacking openjdk-11-jdk:amd64 (11.0.19+7~us1-0ubuntu1~20.04.1) ...\n",
            "Selecting previously unselected package default-jdk.\n",
            "Preparing to unpack .../06-default-jdk_2%3a1.11-72_amd64.deb ...\n",
            "Unpacking default-jdk (2:1.11-72) ...\n",
            "Selecting previously unselected package fonts-dejavu-core.\n",
            "Preparing to unpack .../07-fonts-dejavu-core_2.37-1_all.deb ...\n",
            "Unpacking fonts-dejavu-core (2.37-1) ...\n",
            "Selecting previously unselected package fonts-dejavu-extra.\n",
            "Preparing to unpack .../08-fonts-dejavu-extra_2.37-1_all.deb ...\n",
            "Unpacking fonts-dejavu-extra (2.37-1) ...\n",
            "Selecting previously unselected package libfontenc1:amd64.\n",
            "Preparing to unpack .../09-libfontenc1_1%3a1.1.4-0ubuntu1_amd64.deb ...\n",
            "Unpacking libfontenc1:amd64 (1:1.1.4-0ubuntu1) ...\n",
            "Selecting previously unselected package libxkbfile1:amd64.\n",
            "Preparing to unpack .../10-libxkbfile1_1%3a1.1.0-1_amd64.deb ...\n",
            "Unpacking libxkbfile1:amd64 (1:1.1.0-1) ...\n",
            "Selecting previously unselected package libxxf86dga1:amd64.\n",
            "Preparing to unpack .../11-libxxf86dga1_2%3a1.1.5-0ubuntu1_amd64.deb ...\n",
            "Unpacking libxxf86dga1:amd64 (2:1.1.5-0ubuntu1) ...\n",
            "Selecting previously unselected package x11-utils.\n",
            "Preparing to unpack .../12-x11-utils_7.7+5_amd64.deb ...\n",
            "Unpacking x11-utils (7.7+5) ...\n",
            "Selecting previously unselected package libatk-wrapper-java.\n",
            "Preparing to unpack .../13-libatk-wrapper-java_0.37.1-1_all.deb ...\n",
            "Unpacking libatk-wrapper-java (0.37.1-1) ...\n",
            "Selecting previously unselected package libatk-wrapper-java-jni:amd64.\n",
            "Preparing to unpack .../14-libatk-wrapper-java-jni_0.37.1-1_amd64.deb ...\n",
            "Unpacking libatk-wrapper-java-jni:amd64 (0.37.1-1) ...\n",
            "Setting up default-jre-headless (2:1.11-72) ...\n",
            "Setting up libxtst6:amd64 (2:1.2.3-1) ...\n",
            "Setting up libxxf86dga1:amd64 (2:1.1.5-0ubuntu1) ...\n",
            "Setting up openjdk-11-jre:amd64 (11.0.19+7~us1-0ubuntu1~20.04.1) ...\n",
            "Setting up default-jre (2:1.11-72) ...\n",
            "Setting up libfontenc1:amd64 (1:1.1.4-0ubuntu1) ...\n",
            "Setting up default-jdk-headless (2:1.11-72) ...\n",
            "Setting up fonts-dejavu-core (2.37-1) ...\n",
            "Setting up fonts-dejavu-extra (2.37-1) ...\n",
            "Setting up openjdk-11-jdk:amd64 (11.0.19+7~us1-0ubuntu1~20.04.1) ...\n",
            "update-alternatives: using /usr/lib/jvm/java-11-openjdk-amd64/bin/jconsole to provide /usr/bin/jconsole (jconsole) in auto mode\n",
            "Setting up libxkbfile1:amd64 (1:1.1.0-1) ...\n",
            "Setting up default-jdk (2:1.11-72) ...\n",
            "Setting up x11-utils (7.7+5) ...\n",
            "Setting up libatk-wrapper-java (0.37.1-1) ...\n",
            "Setting up libatk-wrapper-java-jni:amd64 (0.37.1-1) ...\n",
            "Processing triggers for mime-support (3.64ubuntu1) ...\n",
            "Processing triggers for hicolor-icon-theme (0.17-2) ...\n",
            "Processing triggers for libc-bin (2.31-0ubuntu9.9) ...\n",
            "Processing triggers for man-db (2.9.1-1) ...\n",
            "Processing triggers for fontconfig (2.13.1-2ubuntu3) ...\n"
          ]
        }
      ],
      "source": [
        "!sudo apt-get install default-jdk"
      ]
    },
    {
      "cell_type": "code",
      "source": [
        "!cd /usr/local/lib\n",
        "!sudo curl -O https://www.antlr.org/download/antlr-4.9.2-complete.jar\n",
        "!export CLASSPATH=\".:/usr/local/lib/antlr-4.9.2-complete.jar:$CLASSPATH\""
      ],
      "metadata": {
        "colab": {
          "base_uri": "https://localhost:8080/"
        },
        "id": "sVr7uEIZZWU-",
        "outputId": "2917ffb2-30bc-442b-bf8b-06a619fd6b51"
      },
      "execution_count": 2,
      "outputs": [
        {
          "output_type": "stream",
          "name": "stdout",
          "text": [
            "  % Total    % Received % Xferd  Average Speed   Time    Time     Time  Current\n",
            "                                 Dload  Upload   Total   Spent    Left  Speed\n",
            "100 2051k  100 2051k    0     0  6471k      0 --:--:-- --:--:-- --:--:-- 6450k\n"
          ]
        }
      ]
    },
    {
      "cell_type": "code",
      "source": [
        "!pip install antlr4-python3-runtime==4.9"
      ],
      "metadata": {
        "colab": {
          "base_uri": "https://localhost:8080/"
        },
        "id": "DBdXHYUWZsPC",
        "outputId": "a1ab3799-27bd-43cf-bd84-1712b0a245d0"
      },
      "execution_count": 3,
      "outputs": [
        {
          "output_type": "stream",
          "name": "stdout",
          "text": [
            "Looking in indexes: https://pypi.org/simple, https://us-python.pkg.dev/colab-wheels/public/simple/\n",
            "Collecting antlr4-python3-runtime==4.9\n",
            "  Downloading antlr4-python3-runtime-4.9.tar.gz (114 kB)\n",
            "\u001b[2K     \u001b[90m━━━━━━━━━━━━━━━━━━━━━━━━━━━━━━━━━━━━━━━\u001b[0m \u001b[32m114.2/114.2 kB\u001b[0m \u001b[31m2.4 MB/s\u001b[0m eta \u001b[36m0:00:00\u001b[0m\n",
            "\u001b[?25h  Preparing metadata (setup.py) ... \u001b[?25l\u001b[?25hdone\n",
            "Building wheels for collected packages: antlr4-python3-runtime\n",
            "  Building wheel for antlr4-python3-runtime (setup.py) ... \u001b[?25l\u001b[?25hdone\n",
            "  Created wheel for antlr4-python3-runtime: filename=antlr4_python3_runtime-4.9-py3-none-any.whl size=140966 sha256=3bc53a92cf6bb7b30fae3b03104a821fa6d04d326ec45c359107a190a056c80c\n",
            "  Stored in directory: /root/.cache/pip/wheels/ee/ca/30/8bf3f9da970e4ea2a8dbe022ea1525d27643e1cc74f5db7bc3\n",
            "Successfully built antlr4-python3-runtime\n",
            "Installing collected packages: antlr4-python3-runtime\n",
            "Successfully installed antlr4-python3-runtime-4.9\n"
          ]
        }
      ]
    },
    {
      "cell_type": "code",
      "source": [
        "!java -jar antlr-4.9.2-complete.jar -Dlanguage=Python3 my_python.g4 -visitor -o dist"
      ],
      "metadata": {
        "id": "ICp_TD2gZvVp"
      },
      "execution_count": 4,
      "outputs": []
    },
    {
      "cell_type": "code",
      "source": [
        "import sys\n",
        "from antlr4 import *\n",
        "from dist.my_pythonLexer import my_pythonLexer\n",
        "from dist.my_pythonParser import my_pythonParser\n",
        "from dist.my_pythonVisitor import my_pythonVisitor\n",
        "\n",
        "\n",
        "\n",
        "\n",
        "class MyVisitor(my_pythonVisitor):\n",
        "\n",
        "    def visitExpression(self, ctx):\n",
        "        return ctx.getText()\n"
      ],
      "metadata": {
        "id": "bFwFacSkab_B"
      },
      "execution_count": 5,
      "outputs": []
    },
    {
      "cell_type": "code",
      "source": [
        "for i in range(7):\n",
        "    data =  InputStream(input(f\"Test{i} \"))\n",
        "    # lexer\n",
        "    lexer = my_pythonLexer(data)\n",
        "    stream = CommonTokenStream(lexer)\n",
        "    # parser\n",
        "    parser = my_pythonParser(stream)\n",
        "    tree = parser.expression()\n",
        "    # evaluator\n",
        "    visitor = MyVisitor()\n",
        "    output = visitor.visit(tree)\n",
        "    print(output)"
      ],
      "metadata": {
        "colab": {
          "base_uri": "https://localhost:8080/"
        },
        "id": "EAlBhFM8mYxj",
        "outputId": "5781d99b-f350-4e00-8989-8d86f717d9c3"
      },
      "execution_count": 9,
      "outputs": [
        {
          "output_type": "stream",
          "name": "stdout",
          "text": [
            "Test0 1\n",
            "1\n",
            "Test1 -2\n",
            "-2\n",
            "Test2 abcd\n",
            "abcd\n",
            "Test3 [1]\n",
            "[1]\n",
            "Test4 {4:5}\n",
            "{4:5}\n",
            "Test5 False\n",
            "False\n",
            "Test6 True\n",
            "True\n"
          ]
        }
      ]
    },
    {
      "cell_type": "code",
      "source": [],
      "metadata": {
        "id": "smvJZu94m6pg"
      },
      "execution_count": null,
      "outputs": []
    }
  ]
}