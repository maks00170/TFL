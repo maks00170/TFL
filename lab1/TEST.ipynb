{
 "cells": [
  {
   "cell_type": "code",
   "execution_count": 1,
   "id": "ee10e2e5",
   "metadata": {},
   "outputs": [],
   "source": [
    "from func import construct_fnda, convert_to_fda, minimize_fda"
   ]
  },
  {
   "cell_type": "code",
   "execution_count": 2,
   "id": "d18c9c2e",
   "metadata": {},
   "outputs": [],
   "source": [
    "# возвращает результат проверки, True если входная строка соответствует регулярному выражению\n",
    "def check_reg_word(regex, input_string):\n",
    "    fnda = construct_fnda(regex)\n",
    "    fda = convert_to_fda(fnda)\n",
    "    minimized_fda = minimize_fda(fda)\n",
    "    current_state = 0\n",
    "    for char in input_string:\n",
    "        if char not in minimized_fda.keys():\n",
    "            return False\n",
    "        nextState = minimized_fda.table[char][current_state]\n",
    "        if nextState is None:\n",
    "            return False\n",
    "        current_state = nextState\n",
    "    return current_state in minimized_fda.result_states"
   ]
  },
  {
   "cell_type": "markdown",
   "id": "8c6565e3",
   "metadata": {},
   "source": [
    "**все тесты проверялись https://regex101.com/**"
   ]
  },
  {
   "cell_type": "code",
   "execution_count": 3,
   "id": "1a251538",
   "metadata": {},
   "outputs": [],
   "source": [
    "# True\n",
    "assert check_reg_word('aba+c', 'abac')\n",
    "assert check_reg_word('aba+c', 'abaaaaac')\n",
    "assert check_reg_word('(ab)*c?', 'c')\n",
    "assert check_reg_word('(ab)*c?c', 'cc')\n",
    "assert check_reg_word('(ab)*c?+d', 'ccd')\n",
    "assert check_reg_word('a,b,c', 'abc')\n",
    "\n",
    "#False\n",
    "assert not(check_reg_word('(ab)*c?+d', 'mmm'))\n",
    "assert not(check_reg_word('(ab)*c?', 'aaa'))\n",
    "assert not(check_reg_word('(ab)*c+d?', 'abaadaac'))\n",
    "assert not(check_reg_word('ab+ba', 'boneym'))"
   ]
  },
  {
   "cell_type": "code",
   "execution_count": null,
   "id": "ef603126",
   "metadata": {},
   "outputs": [],
   "source": []
  }
 ],
 "metadata": {
  "kernelspec": {
   "display_name": "Python 3 (ipykernel)",
   "language": "python",
   "name": "python3"
  },
  "language_info": {
   "codemirror_mode": {
    "name": "ipython",
    "version": 3
   },
   "file_extension": ".py",
   "mimetype": "text/x-python",
   "name": "python",
   "nbconvert_exporter": "python",
   "pygments_lexer": "ipython3",
   "version": "3.10.6"
  }
 },
 "nbformat": 4,
 "nbformat_minor": 5
}
